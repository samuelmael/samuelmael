{
 "cells": [
  {
   "cell_type": "markdown",
   "id": "6c164e7a",
   "metadata": {},
   "source": [
    "# Índice de Pegada de Carbono Alimentar 2018"
   ]
  },
  {
   "cell_type": "markdown",
   "id": "44311cd7",
   "metadata": {},
   "source": [
    "Dataset disponível no site: https://www.nu3.de/blogs/nutrition/food-carbon-footprint-index-2018\n",
    "\n",
    "Para aprofundar o debate acerca do indíce de pegada de carbono baseado na produção/consumo de alimentos, foi realizado um estudo que analisa a pegada de carbono da indústria de alimentos, comparando diretamente diferentes dietas em termos de emissões de dióxido de carbono. A pesquisa, que revela as emissões anuais de CO2 por pessoa para 130 nações em todo o mundo, mostra quais países poderiam reduzir significativamente sua pegada de carbono mudando para uma dieta baseada em vegetais, bem como quais tipos de alimentos geram as maiores emissões de dióxido de carbono.\n",
    "\n",
    "O estudo analisa dados da Organização das Nações Unidas para Agricultura e Alimentação (FAO) para determinar a quantidade de produtos fornecidos para consumo de 11 tipos de alimentos para todos os países pesquisados. Usando dados de emissões de CO2, a pegada de carbono per capita é então calculada para cada tipo de alimento. Isso permite uma comparação direta do CO2 produzido para cada tipo de alimento, bem como entre sete produtos de origem animal e quatro produtos não animais. Por fim, para determinar a classificação final do índice, foi calculada a diferença entre o total de CO2 produzido pela quantidade de produto animal ingerido por uma pessoa em um país versus o total de produto não animal. Este número revela a diferença em kgs de CO2 emitidos por produto animal versus produto não animal. O resultado é um balanço que serve como um indicador do potencial de economia da pegada de carbono por cidadão por ano, se eles mudarem de uma dieta animal para uma dieta não animal.\n",
    "\n",
    "As perguntas que queremos responder são:\n",
    "\n",
    "1 - Qual a **quantidade total** de alimentos de origem animal, em kg, que o **Brasil** fornece por pessoa/ano (relativo aos produtos citados na pesquisa)? E de origem vegetal? Qual a **média** e **mediana** das quantidades fornecidas?\n",
    "\n",
    "2 - Qual a **quantidade total** de CO2, em kg, que o **Brasil** produz por pessoa/ano consumindo produtos de origem animal (relativo aos produtos citados na pesquisa)? E de origem vegetal? Como esse valor é comparado com a média mundial?\n",
    "\n",
    "3 - Qual a diferença entre o consumo de produtos de origem animal e de origem vegetal no Brasil?\n",
    "\n",
    "4 - Quais os **5 países** que mais emitem CO2, em kg, por pessoa/ano consumindo produtos de origem animal? E quais países são os que menos consomem?\n",
    "\n",
    "5 - Em qual posição o **Brasil** se encontra na lista de países que mais consomem produtos de origem animal?\n",
    "\n",
    "6 - Em qual posição o **Brasil** se encontra na lista de países que mais consomem produtos de origem vegetal?"
   ]
  },
  {
   "cell_type": "markdown",
   "id": "fd194720",
   "metadata": {},
   "source": [
    "# Começando nossa pesquisa:"
   ]
  },
  {
   "cell_type": "markdown",
   "id": "86ad647e",
   "metadata": {},
   "source": [
    "O primeiro passo é importar as biblioteca que nos ajudarão na exploração e visualização dos dados. Assim sendo, iremos abrir o arquivo e visualizar as primeiras 11 linhas para uma rápida análise de nossos dados."
   ]
  },
  {
   "cell_type": "code",
   "execution_count": 298,
   "id": "9a3c9e3b",
   "metadata": {},
   "outputs": [],
   "source": [
    "# importando bibliotecas"
   ]
  },
  {
   "cell_type": "code",
   "execution_count": 299,
   "id": "1b1b7b6c",
   "metadata": {},
   "outputs": [],
   "source": [
    "%matplotlib inline\n",
    "import pandas as pd\n",
    "import matplotlib.pyplot as plt\n",
    "import seaborn as sns\n",
    "import numpy as np"
   ]
  },
  {
   "cell_type": "code",
   "execution_count": 300,
   "id": "7b91efdd",
   "metadata": {},
   "outputs": [],
   "source": [
    "# lendo o arquivo"
   ]
  },
  {
   "cell_type": "code",
   "execution_count": 301,
   "id": "070196af",
   "metadata": {},
   "outputs": [],
   "source": [
    "food = pd.read_csv(\"food_consumption.csv\", index_col=[0])"
   ]
  },
  {
   "cell_type": "code",
   "execution_count": 302,
   "id": "2b7417ea",
   "metadata": {},
   "outputs": [],
   "source": [
    "# Primeiras 11 linhas do DataFrame (que foi chamado de variável: food)"
   ]
  },
  {
   "cell_type": "code",
   "execution_count": 303,
   "id": "cc240b70",
   "metadata": {},
   "outputs": [
    {
     "name": "stdout",
     "output_type": "stream",
     "text": [
      "      country food_category  consumption  co2_emission\n",
      "1   Argentina          pork        10.51         37.20\n",
      "2   Argentina       poultry        38.66         41.53\n",
      "3   Argentina          beef        55.48       1712.00\n",
      "4   Argentina     lamb_goat         1.56         54.63\n",
      "5   Argentina          fish         4.36          6.96\n",
      "6   Argentina          eggs        11.39         10.46\n",
      "7   Argentina         dairy       195.08        277.87\n",
      "8   Argentina         wheat       103.11         19.66\n",
      "9   Argentina          rice         8.77         11.22\n",
      "10  Argentina      soybeans         0.00          0.00\n",
      "11  Argentina          nuts         0.49          0.87\n"
     ]
    }
   ],
   "source": [
    "print(food.head(11))"
   ]
  },
  {
   "cell_type": "code",
   "execution_count": 304,
   "id": "f139cbbb",
   "metadata": {},
   "outputs": [],
   "source": [
    "# Quantidade de linhas e colunas do DataFrame"
   ]
  },
  {
   "cell_type": "code",
   "execution_count": 305,
   "id": "4af55046",
   "metadata": {},
   "outputs": [
    {
     "name": "stdout",
     "output_type": "stream",
     "text": [
      "(1430, 4)\n"
     ]
    }
   ],
   "source": [
    "print(food.shape)"
   ]
  },
  {
   "cell_type": "code",
   "execution_count": 306,
   "id": "d5608997",
   "metadata": {},
   "outputs": [],
   "source": [
    "# Nome das colunas do DataFrame"
   ]
  },
  {
   "cell_type": "code",
   "execution_count": 307,
   "id": "136dd6c7",
   "metadata": {},
   "outputs": [
    {
     "name": "stdout",
     "output_type": "stream",
     "text": [
      "Index(['country', 'food_category', 'consumption', 'co2_emission'], dtype='object')\n"
     ]
    }
   ],
   "source": [
    "print(food.columns)"
   ]
  },
  {
   "cell_type": "markdown",
   "id": "5392efb2",
   "metadata": {},
   "source": [
    "# Entendendo nossos dados:"
   ]
  },
  {
   "cell_type": "markdown",
   "id": "dddf5842",
   "metadata": {},
   "source": [
    "Este estudo analisa 130 países ao redor do mundo para determinar a quantidade de dióxido de carbono (CO2) que cada país emite, com base em sua dieta. Isso é calculado através da quantidade de alimentos fornecidos para consumo e quantos kg de CO2 por kg de produto, por pessoa anualmente. Esses dados em nível de país são divididos entre dietas baseadas em animais e não baseadas em animais.\n",
    "\n",
    "Os dados analisam a quantidade de produtos animais (porco, aves, carne bovina, ovina e caprina, peixe, ovos e leite - incluindo queijo) e produtos não animais (trigo e produtos de trigo, arroz, soja, nozes - incluindo manteiga de amendoim ) que é fornecido para consumo em cada país.\n",
    "\n",
    "consumption => Fornecido para consumo (kg/pessoa/ano): A quantidade de alimentos, em kg, que um país fornece para consumo. Como se trata de um valor de oferta destinado ao consumo, também pode incluir uma porcentagem de alimentos que não seriam consumidos, como o desperdício de alimentos.\n",
    "\n",
    "co2_emission => Kg CO2/pessoa/ano: Com base na quantidade de alimentos fornecidos para consumo, este número indica quantos kg de CO2 são produzidos anualmente por pessoa."
   ]
  },
  {
   "cell_type": "markdown",
   "id": "40b0c3ad",
   "metadata": {},
   "source": [
    "# 1 - Qual a quantidade total de alimentos de origem animal, em kg, que o Brasil fornece por pessoa/ano (relativo aos produtos citados na pesquisa)? E de origem vegetal? Qual a média e mediana das quantidades fornecidas?"
   ]
  },
  {
   "cell_type": "code",
   "execution_count": 308,
   "id": "90357786",
   "metadata": {},
   "outputs": [],
   "source": [
    "# Filtrar para Brasil"
   ]
  },
  {
   "cell_type": "code",
   "execution_count": 309,
   "id": "796ccdd7",
   "metadata": {
    "scrolled": false
   },
   "outputs": [],
   "source": [
    "animal = ['pork', 'poultry', 'beef', 'lamb_goat', 'fish', 'eggs', 'dairy']\n",
    "veg = ['wheat', 'rice', 'soybeans', 'nuts']\n",
    "br_animal = food[(food['country'] == 'Brazil') & (food.food_category.isin(animal))]\n",
    "br_vegetal = food[(food['country'] == 'Brazil') & (food.food_category.isin(veg))]"
   ]
  },
  {
   "cell_type": "code",
   "execution_count": 310,
   "id": "fdcde922",
   "metadata": {},
   "outputs": [],
   "source": [
    "# Calcular a quantidade total dos alimentos de origem animal listados em kg/pessoa/ano"
   ]
  },
  {
   "cell_type": "code",
   "execution_count": 311,
   "id": "fbaaf56c",
   "metadata": {},
   "outputs": [
    {
     "name": "stdout",
     "output_type": "stream",
     "text": [
      "            sum       mean  median\n",
      "country                           \n",
      "Brazil   265.74  37.962857    12.6\n"
     ]
    }
   ],
   "source": [
    "print(br_animal.groupby(\"country\")['consumption'].agg(['sum', np.mean, np.median]))"
   ]
  },
  {
   "cell_type": "code",
   "execution_count": 312,
   "id": "c94e9490",
   "metadata": {},
   "outputs": [],
   "source": [
    "# Calcular a quantidade total dos alimentos de origem vegetal listados em kg/pessoa/ano"
   ]
  },
  {
   "cell_type": "code",
   "execution_count": 313,
   "id": "a46d1b27",
   "metadata": {},
   "outputs": [
    {
     "name": "stdout",
     "output_type": "stream",
     "text": [
      "           sum    mean  median\n",
      "country                       \n",
      "Brazil   89.42  22.355  17.875\n"
     ]
    }
   ],
   "source": [
    "print(br_vegetal.groupby(\"country\")['consumption'].agg(['sum', np.mean, np.median]))"
   ]
  },
  {
   "cell_type": "code",
   "execution_count": 314,
   "id": "476eaac0",
   "metadata": {},
   "outputs": [],
   "source": [
    "# Mostrar DataFrame apenas no Brasil"
   ]
  },
  {
   "cell_type": "code",
   "execution_count": 315,
   "id": "7d23e119",
   "metadata": {},
   "outputs": [],
   "source": [
    "food_brasil = food[food['country'] == 'Brazil']"
   ]
  },
  {
   "cell_type": "code",
   "execution_count": 316,
   "id": "8c6aca0e",
   "metadata": {},
   "outputs": [
    {
     "name": "stdout",
     "output_type": "stream",
     "text": [
      "   country food_category  consumption  co2_emission\n",
      "89  Brazil          pork        12.60         44.60\n",
      "90  Brazil       poultry        45.00         48.34\n",
      "91  Brazil          beef        39.25       1211.17\n",
      "92  Brazil     lamb_goat         0.62         21.71\n",
      "93  Brazil          fish        10.01         15.98\n",
      "94  Brazil          eggs         8.98          8.25\n",
      "95  Brazil         dairy       149.28        212.63\n",
      "96  Brazil         wheat        53.00         10.11\n",
      "97  Brazil          rice        32.13         41.12\n",
      "98  Brazil      soybeans         3.62          1.63\n",
      "99  Brazil          nuts         0.67          1.19\n"
     ]
    }
   ],
   "source": [
    "print(food_brasil.head(11))"
   ]
  },
  {
   "cell_type": "markdown",
   "id": "f545f2c7",
   "metadata": {},
   "source": [
    "# 2 - Qual a **quantidade total** de CO2, em kg, que o **Brasil** produz por pessoa/ano consumindo produtos de origem animal (relativo aos produtos citados na pesquisa)? E de origem vegetal? Como esse valor é comparado com a média mundial?\n"
   ]
  },
  {
   "cell_type": "code",
   "execution_count": 317,
   "id": "761cc478",
   "metadata": {},
   "outputs": [
    {
     "name": "stdout",
     "output_type": "stream",
     "text": [
      "origem animal:\n",
      "country\n",
      "Brazil    1562.68\n",
      "Name: co2_emission, dtype: float64\n",
      "\n",
      "origem vegetal:\n",
      "country\n",
      "Brazil    54.05\n",
      "Name: co2_emission, dtype: float64\n"
     ]
    }
   ],
   "source": [
    "# origem animal:\n",
    "print(\"origem animal:\")\n",
    "print(br_animal.groupby(\"country\")['co2_emission'].sum())\n",
    "print(\"\")\n",
    "print(\"origem vegetal:\")\n",
    "# origem vegetal:\n",
    "print(br_vegetal.groupby(\"country\")['co2_emission'].sum())\n"
   ]
  },
  {
   "cell_type": "code",
   "execution_count": 318,
   "id": "e1c93670",
   "metadata": {},
   "outputs": [
    {
     "name": "stdout",
     "output_type": "stream",
     "text": [
      "759.2775384615384\n"
     ]
    }
   ],
   "source": [
    "# filtrando as categorias de alimentos para todos os produtos de origem animal listados\n",
    "food_animal = food[(food[\"food_category\"] == 'pork') | \n",
    "                   (food[\"food_category\"] == 'poultry') | \n",
    "                   (food[\"food_category\"] == 'beef') | \n",
    "                   (food[\"food_category\"] == 'lamb_goat') | \n",
    "                   (food[\"food_category\"] == 'fish') | \n",
    "                   (food[\"food_category\"] == 'eggs') | \n",
    "                   (food[\"food_category\"] == 'dairy')\n",
    "                  ] \n",
    "# Encontrando a média a nivel mundial de CO2 produzido pelo consumo de produtos de origem animal\n",
    "print(food_animal['co2_emission'].sum() / len(food[\"country\"].unique()))"
   ]
  },
  {
   "cell_type": "markdown",
   "id": "caf8607c",
   "metadata": {},
   "source": [
    "Podemos observar que a produção de CO2 no Brasil está maior que a média mundial. Enquanto a média mundial é de 759.28 kg de CO2 por pessoa/ano, o Brasil produz 1562.68 kg. Isto equivale a mais que o dobro da média."
   ]
  },
  {
   "cell_type": "markdown",
   "id": "d24aaab6",
   "metadata": {},
   "source": [
    "# 3 - Qual a diferença entre o consumo de produtos de origem animal e de origem vegetal no Brasil?"
   ]
  },
  {
   "cell_type": "code",
   "execution_count": 319,
   "id": "8b18b9e2",
   "metadata": {},
   "outputs": [
    {
     "name": "stdout",
     "output_type": "stream",
     "text": [
      "country\n",
      "Brazil    1508.63\n",
      "Name: co2_emission, dtype: float64\n"
     ]
    }
   ],
   "source": [
    "br_animal_co2 = br_animal.groupby(\"country\")['co2_emission'].sum()\n",
    "br_vegetal_co2 = br_vegetal.groupby(\"country\")['co2_emission'].sum()\n",
    "br_vegano = br_animal_co2 - br_vegetal_co2\n",
    "print(br_vegano)"
   ]
  },
  {
   "cell_type": "markdown",
   "id": "6284cd0c",
   "metadata": {},
   "source": [
    "A diferença é de aproximadamente 1508 kg de CO2. Isso mostra que no Brasil, existe muito mais consumo de produtos de origem animal do que produtos de origem vegetal."
   ]
  },
  {
   "cell_type": "markdown",
   "id": "35b774ca",
   "metadata": {},
   "source": [
    "# 4 - Quais os 5 países que mais emitem CO2, em kg, por pessoa/ano consumindo produtos de origem animal? E quais sao os países que menos emitem?"
   ]
  },
  {
   "cell_type": "code",
   "execution_count": 320,
   "id": "eae35187",
   "metadata": {},
   "outputs": [
    {
     "name": "stdout",
     "output_type": "stream",
     "text": [
      "países que mais consomem:\n",
      "country\n",
      "Argentina      2140.65\n",
      "Australia      1895.56\n",
      "Albania        1733.73\n",
      "New Zealand    1709.81\n",
      "Iceland        1705.55\n",
      "Name: co2_emission, dtype: float64\n",
      "\n",
      "países que menos consomem:\n",
      "country\n",
      "Liberia        77.44\n",
      "Mozambique    104.02\n",
      "Sri Lanka     145.06\n",
      "Togo          146.02\n",
      "Bangladesh    149.55\n",
      "Name: co2_emission, dtype: float64\n"
     ]
    }
   ],
   "source": [
    "# agrupando e calculando a soma da emissão de CO2 por país\n",
    "print(\"países que mais consomem:\")\n",
    "print(food_animal.groupby('country')['co2_emission'].sum().sort_values(ascending=False).head())\n",
    "print(\"\")\n",
    "print(\"países que menos consomem:\")\n",
    "print(food_animal.groupby('country')['co2_emission'].sum().sort_values().head())"
   ]
  },
  {
   "cell_type": "markdown",
   "id": "636a49a6",
   "metadata": {},
   "source": [
    "Uma informação que podemos analisar através do estudo dos dados é que países da África consomem menos produtos de origem animal. A África é o continente onde hoje se concentram os países mais pobres do mundo. De acordo com uma reportagem da BBC realizada em 9 de fevereiro de 2019, entitulada: **Carne na alimentação: quais países lideram o ranking?**, é relatado: \n",
    "\n",
    "\"No outro extremo do espectro, em muitos dos países mais pobres do mundo, come-se pouca carne. O etíope médio, por exemplo, consome apenas 7 kg, os ruandeses, 8 kg, e os nigerianos, 9 kg. Trata-se de um patamar dez vezes menor que o da média europeia.\""
   ]
  },
  {
   "cell_type": "code",
   "execution_count": 321,
   "id": "51889a29",
   "metadata": {},
   "outputs": [
    {
     "name": "stdout",
     "output_type": "stream",
     "text": [
      "country\n",
      "Rwanda        17.83\n",
      "Mozambique    22.71\n",
      "Liberia       23.40\n",
      "Malawi        27.64\n",
      "Zambia        29.62\n",
      "Name: consumption, dtype: float64\n"
     ]
    }
   ],
   "source": [
    "# agrupando e calculando a soma do fornecimento de produtos de origem animal por país\n",
    "print(food_animal.groupby('country')['consumption'].sum().sort_values().head())"
   ]
  },
  {
   "cell_type": "raw",
   "id": "1da2fe49",
   "metadata": {},
   "source": [
    "Embora o não consumo ou pouco consumo de carne seja uma realidade comum em muitos países da África, isso não significa que o país tenha uma população essencialmente vegetariana, até porque o baixo consumo de carne está associado ao preço e ao fato de que não se cria tantos animais para abate no país como em outras nações – o que também tem mais relação com os custos da agropecuária.\n",
    "Podemos verificar isso através do estudo dos países que menos fornecem alimentos de origem animal para consumo."
   ]
  },
  {
   "cell_type": "markdown",
   "id": "bf026990",
   "metadata": {},
   "source": [
    "# 5 - Em qual posição o Brasil se encontra na lista de países que mais consomem produtos de origem animal?"
   ]
  },
  {
   "cell_type": "code",
   "execution_count": 322,
   "id": "df45e75d",
   "metadata": {},
   "outputs": [
    {
     "name": "stdout",
     "output_type": "stream",
     "text": [
      "country\n",
      "Argentina      2140.65\n",
      "Australia      1895.56\n",
      "Albania        1733.73\n",
      "New Zealand    1709.81\n",
      "Iceland        1705.55\n",
      "                ...   \n",
      "Bangladesh      149.55\n",
      "Togo            146.02\n",
      "Sri Lanka       145.06\n",
      "Mozambique      104.02\n",
      "Liberia          77.44\n",
      "Name: co2_emission, Length: 130, dtype: float64\n"
     ]
    }
   ],
   "source": [
    "print(food_animal.groupby('country')['co2_emission'].sum().sort_values(ascending=False))"
   ]
  },
  {
   "cell_type": "code",
   "execution_count": 323,
   "id": "adbbdc49",
   "metadata": {},
   "outputs": [],
   "source": [
    "food_animal_sum = food_animal.groupby('country')['co2_emission'].sum().sort_values(ascending=False)"
   ]
  },
  {
   "cell_type": "code",
   "execution_count": 324,
   "id": "1f02c857",
   "metadata": {},
   "outputs": [],
   "source": [
    "# transformando em DataFrame para análise e criando a coluna rank\n",
    "tabela_animal_co2 = pd.DataFrame(food_animal_sum)\n",
    "tabela_animal_co2[\"rank\"] = tabela_animal_co2[\"co2_emission\"].rank(ascending=False)"
   ]
  },
  {
   "cell_type": "code",
   "execution_count": 325,
   "id": "c2ee9d54",
   "metadata": {},
   "outputs": [
    {
     "name": "stdout",
     "output_type": "stream",
     "text": [
      "             co2_emission   rank\n",
      "country                         \n",
      "Argentina         2140.65    1.0\n",
      "Australia         1895.56    2.0\n",
      "Albania           1733.73    3.0\n",
      "New Zealand       1709.81    4.0\n",
      "Iceland           1705.55    5.0\n",
      "...                   ...    ...\n",
      "Bangladesh         149.55  126.0\n",
      "Togo               146.02  127.0\n",
      "Sri Lanka          145.06  128.0\n",
      "Mozambique         104.02  129.0\n",
      "Liberia             77.44  130.0\n",
      "\n",
      "[130 rows x 2 columns]\n"
     ]
    }
   ],
   "source": [
    "print(tabela_animal_co2)"
   ]
  },
  {
   "cell_type": "code",
   "execution_count": 326,
   "id": "86612e4f",
   "metadata": {},
   "outputs": [
    {
     "name": "stdout",
     "output_type": "stream",
     "text": [
      "co2_emission    1562.68\n",
      "rank               9.00\n",
      "Name: Brazil, dtype: float64\n"
     ]
    }
   ],
   "source": [
    "# encontrando a posição do Brasil nos países que mais produzem CO2 através do consumo de produto animal \n",
    "print(tabela_animal_co2.loc[\"Brazil\"])"
   ]
  },
  {
   "cell_type": "markdown",
   "id": "93cc26c0",
   "metadata": {},
   "source": [
    "# 6 - Em qual posição o Brasil se encontra na lista de países que mais consomem produtos de origem vegetal?"
   ]
  },
  {
   "cell_type": "code",
   "execution_count": 327,
   "id": "210ef751",
   "metadata": {},
   "outputs": [],
   "source": [
    "food_vegetal = food[(food[\"food_category\"] == 'wheat') | \n",
    "                   (food[\"food_category\"] == 'rice') | \n",
    "                   (food[\"food_category\"] == 'soybeans') | \n",
    "                   (food[\"food_category\"] == 'nuts')\n",
    "                  ]\n",
    "\n",
    "food_vegetal_sum = food_vegetal.groupby('country')['co2_emission'].sum().sort_values(ascending=False)"
   ]
  },
  {
   "cell_type": "code",
   "execution_count": 328,
   "id": "553dc1dc",
   "metadata": {},
   "outputs": [],
   "source": [
    "# transformando em DataFrame para análise e criando a coluna rank\n",
    "tabela_vegetal_co2 = pd.DataFrame(food_vegetal_sum)\n",
    "tabela_vegetal_co2[\"rank\"] = tabela_vegetal_co2[\"co2_emission\"].rank(ascending=False)"
   ]
  },
  {
   "cell_type": "code",
   "execution_count": 329,
   "id": "46ed6ff6",
   "metadata": {},
   "outputs": [
    {
     "name": "stdout",
     "output_type": "stream",
     "text": [
      "            co2_emission   rank\n",
      "country                        \n",
      "Bangladesh        224.63    1.0\n",
      "Cambodia          208.28    2.0\n",
      "Vietnam           200.70    3.0\n",
      "Indonesia         186.33    4.0\n",
      "Myanmar           179.27    5.0\n",
      "...                  ...    ...\n",
      "Namibia            16.27  126.0\n",
      "Rwanda             15.19  127.0\n",
      "Paraguay           15.12  128.0\n",
      "Uganda             14.54  129.0\n",
      "Ethiopia           11.18  130.0\n",
      "\n",
      "[130 rows x 2 columns]\n"
     ]
    }
   ],
   "source": [
    "print(tabela_vegetal_co2)"
   ]
  },
  {
   "cell_type": "code",
   "execution_count": 330,
   "id": "b2839fb0",
   "metadata": {},
   "outputs": [
    {
     "name": "stdout",
     "output_type": "stream",
     "text": [
      "co2_emission    54.05\n",
      "rank            44.00\n",
      "Name: Brazil, dtype: float64\n"
     ]
    }
   ],
   "source": [
    "# encontrando a posição do Brasil nos países que mais produzem CO2 através do consumo de produto vegetal\n",
    "print(tabela_vegetal_co2.loc[\"Brazil\"])"
   ]
  },
  {
   "cell_type": "markdown",
   "id": "86236675",
   "metadata": {},
   "source": [
    "# Conclusão:"
   ]
  },
  {
   "cell_type": "markdown",
   "id": "fb2f04fc",
   "metadata": {},
   "source": [
    "O Brasil é o **nono (9)** país que mais emite CO2 através do consumo de produtos de origem animal e o **quadragésimo quarto (44)** que mais emite CO2 através do consumo de produtos de origem vegetal. Isso nos mostra que o país consome muito mais produtos de origem animal do que de origem vegetal. Nesta pesquisa, foram estudados **130** países. Através do consumo de produtos de origem animal, cada brasileiro produz em média **1.508 kg de CO2**. Para se ter uma ideia, um estudo realizado no Reino Unido mostra que um carro, em média, tem uma emissão de **2.630 kg de CO2** ao ano. \n",
    "\n",
    "Através de nossa análise de dados, nos é mostrado a importância de uma transformação no mindset do brasileiro em relação ao consumo exagerado de produtos de origem animal. É importante o começo de um processo de educação no povo brasileiro, para que o mesmo, comece a enxergar e entender a importância do aumento de consumo de produtos vegetais, **tanto para a saúde do corpo, como para a saúde do planeta**."
   ]
  },
  {
   "cell_type": "code",
   "execution_count": null,
   "id": "22c25263",
   "metadata": {},
   "outputs": [],
   "source": []
  }
 ],
 "metadata": {
  "kernelspec": {
   "display_name": "Python 3 (ipykernel)",
   "language": "python",
   "name": "python3"
  },
  "language_info": {
   "codemirror_mode": {
    "name": "ipython",
    "version": 3
   },
   "file_extension": ".py",
   "mimetype": "text/x-python",
   "name": "python",
   "nbconvert_exporter": "python",
   "pygments_lexer": "ipython3",
   "version": "3.9.12"
  }
 },
 "nbformat": 4,
 "nbformat_minor": 5
}
